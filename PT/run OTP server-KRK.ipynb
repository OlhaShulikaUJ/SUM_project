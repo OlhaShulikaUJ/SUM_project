{
 "cells": [
  {
   "cell_type": "markdown",
   "metadata": {},
   "source": [
    "##  PTqueries_OTP \n",
    "\n",
    "\n",
    "set up the OTP server and keep it up and running.\n",
    "\n",
    "> Querying via browser: 'http://localhost:8080'\n",
    "\n",
    "> Killing server http://code2care.org/2015/how-to-kill-service-running-on-port-using-terminal-command/"
   ]
  },
  {
   "cell_type": "code",
   "execution_count": null,
   "metadata": {},
   "outputs": [],
   "source": [
    "OTP_PATH = \"otp-1.4.0-shaded.jar\"\n",
    "DATA_PATH = \"data\" # in folder there should be a gtfs.zip and *.osm.pbf\n",
    "MEMORY = 6\n",
    "call = \"-Xmx{}G -jar {} --build {} --inMemory\".format(MEMORY, OTP_PATH, DATA_PATH)"
   ]
  },
  {
   "cell_type": "markdown",
   "metadata": {},
   "source": [
    "terminal call (server is running when you see 'Grizzly server running' in the console output below)"
   ]
  },
  {
   "cell_type": "code",
   "execution_count": null,
   "metadata": {},
   "outputs": [],
   "source": [
    "!java $call"
   ]
  },
  {
   "cell_type": "markdown",
   "metadata": {},
   "source": [
    "---"
   ]
  }
 ],
 "metadata": {
  "kernelspec": {
   "display_name": "Python 3 (ipykernel)",
   "language": "python",
   "name": "python3"
  },
  "language_info": {
   "codemirror_mode": {
    "name": "ipython",
    "version": 3
   },
   "file_extension": ".py",
   "mimetype": "text/x-python",
   "name": "python",
   "nbconvert_exporter": "python",
   "pygments_lexer": "ipython3",
   "version": "3.9.13"
  }
 },
 "nbformat": 4,
 "nbformat_minor": 4
}
