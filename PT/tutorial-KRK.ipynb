{
 "cells": [
  {
   "cell_type": "markdown",
   "metadata": {},
   "source": [
    "\n",
    "\n",
    "__Set your own route planner for a given OSM map and GTFS file and query server on localhost for a detailed routes__\n",
    "\n",
    "\n",
    "### OTP walkthrough\n",
    "\n",
    "from: http://docs.opentripplanner.org/en/latest/Basic-Tutorial/\n",
    "\n",
    "1. Install Java SDK\n",
    "2. Download [latest](https://repo1.maven.org/maven2/org/opentripplanner/otp/1.4.0/otp-1.4.0-shaded.jar) .jar from [Maven](https://repo1.maven.org/maven2/org/opentripplanner/otp/1.4.0/)\n",
    "3. Download gtfs.zip of a given city into a `folder` from `transit.land`\n",
    "4. Download osm.pgf of your area from [here](https://www.interline.io/osm/extracts/) (need to login to get API token)\n",
    "5. call from terminal `java -Xmx6G -jar otp-1.4.0-shaded.jar --build data_path --inMemory` changing `6G` as memory allocated (6GB) and `data_path` to your path with osm and gtfs files\n",
    "6. if succesful you shall be able to open a web search in your browser: `http://localhost:8080/`\n",
    "7. and query it via API, for instance: 'http://localhost:8080/otp/routers/default/plan?fromPlace=52.25177%2C20.92758&toPlace=52.20550%2C21.00517&time=1%3A02pm&date=04-09-2020&mode=TRANSIT%2CWALK&maxWalkDistance=5000&arriveBy=false'\n"
   ]
  },
  {
   "cell_type": "code",
   "execution_count": 1,
   "metadata": {},
   "outputs": [],
   "source": [
    "import pandas as pd\n",
    "import requests\n",
    "import osmnx as ox"
   ]
  },
  {
   "cell_type": "markdown",
   "metadata": {},
   "source": [
    "local imports"
   ]
  },
  {
   "cell_type": "code",
   "execution_count": 2,
   "metadata": {},
   "outputs": [],
   "source": [
    "from main import make_query, parse_OTP_response\n",
    "from utils import plot"
   ]
  },
  {
   "cell_type": "markdown",
   "metadata": {},
   "source": [
    "set up"
   ]
  },
  {
   "cell_type": "code",
   "execution_count": 3,
   "metadata": {},
   "outputs": [],
   "source": [
    "PATH = 'georequests_O(area10)_D.csv'\n",
    "OTP_API = \"http://localhost:8080/otp/routers/default/plan\""
   ]
  },
  {
   "cell_type": "code",
   "execution_count": 4,
   "metadata": {},
   "outputs": [],
   "source": [
    "df = pd.read_csv(PATH)\n",
    "G = ox.load_graphml('Krakow.graphml')\n",
    "df1 = df.filter(['x','y','desti_x', 'desti_y', 'treq'], axis = 1).rename(\n",
    "    columns = {'x': 'origin_x', 'y': 'origin_y', 'desti_x': 'destination_x', 'desti_y': 'destination_y'})\n",
    "df1['treq'] = pd.to_datetime(df1.treq)"
   ]
  },
  {
   "cell_type": "markdown",
   "metadata": {},
   "source": [
    "input"
   ]
  },
  {
   "cell_type": "markdown",
   "metadata": {},
   "source": [
    "sample query (before you can query the server you need to run it -see run OTP server.ipynb in this folder)\n",
    "\n",
    "[query synthax](http://dev.opentripplanner.org/apidoc/1.0.0/resource_PlannerResource.html)  \n",
    "[response json structure](http://dev.opentripplanner.org/apidoc/1.0.0/json_Response.html)"
   ]
  },
  {
   "cell_type": "code",
   "execution_count": 5,
   "metadata": {
    "tags": []
   },
   "outputs": [
    {
     "data": {
      "text/plain": [
       "{'success': True,\n",
       " 'n_itineraries': 3,\n",
       " 'duration': 2458,\n",
       " 'walkDistance': 1014.8020375854327,\n",
       " 'transfers': 1,\n",
       " 'transitTime': 1560,\n",
       " 'waitingTime': 81,\n",
       " 'modes': [['WALK', 478, 608],\n",
       "  ['BUS', 240, 944],\n",
       "  ['WALK', 101, 130],\n",
       "  ['TRAM', 1320, 6352],\n",
       "  ['WALK', 238, 274]]}"
      ]
     },
     "execution_count": 5,
     "metadata": {},
     "output_type": "execute_result"
    }
   ],
   "source": [
    "df2 = df1.apply(lambda row: \n",
    "                 parse_OTP_response(requests.get(OTP_API, params=make_query(row.squeeze())).json()), axis=1)\n",
    "df2[0]"
   ]
  },
  {
   "cell_type": "code",
   "execution_count": 6,
   "metadata": {},
   "outputs": [
    {
     "data": {
      "text/html": [
       "<div>\n",
       "<style scoped>\n",
       "    .dataframe tbody tr th:only-of-type {\n",
       "        vertical-align: middle;\n",
       "    }\n",
       "\n",
       "    .dataframe tbody tr th {\n",
       "        vertical-align: top;\n",
       "    }\n",
       "\n",
       "    .dataframe thead th {\n",
       "        text-align: right;\n",
       "    }\n",
       "</style>\n",
       "<table border=\"1\" class=\"dataframe\">\n",
       "  <thead>\n",
       "    <tr style=\"text-align: right;\">\n",
       "      <th></th>\n",
       "      <th>origin_x</th>\n",
       "      <th>origin_y</th>\n",
       "      <th>destination_x</th>\n",
       "      <th>destination_y</th>\n",
       "      <th>treq</th>\n",
       "      <th>success</th>\n",
       "      <th>n_itineraries</th>\n",
       "      <th>duration</th>\n",
       "      <th>walkDistance</th>\n",
       "      <th>transfers</th>\n",
       "      <th>transitTime</th>\n",
       "      <th>waitingTime</th>\n",
       "      <th>modes</th>\n",
       "    </tr>\n",
       "  </thead>\n",
       "  <tbody>\n",
       "    <tr>\n",
       "      <th>0</th>\n",
       "      <td>19.871552</td>\n",
       "      <td>50.018840</td>\n",
       "      <td>19.954225</td>\n",
       "      <td>50.045635</td>\n",
       "      <td>2024-03-28 07:54:33</td>\n",
       "      <td>True</td>\n",
       "      <td>3.0</td>\n",
       "      <td>2458.0</td>\n",
       "      <td>1014.802038</td>\n",
       "      <td>1.0</td>\n",
       "      <td>1560.0</td>\n",
       "      <td>81.0</td>\n",
       "      <td>[[WALK, 478, 608], [BUS, 240, 944], [WALK, 101...</td>\n",
       "    </tr>\n",
       "    <tr>\n",
       "      <th>1</th>\n",
       "      <td>19.873129</td>\n",
       "      <td>50.015181</td>\n",
       "      <td>19.934195</td>\n",
       "      <td>50.070585</td>\n",
       "      <td>2024-03-28 07:52:19</td>\n",
       "      <td>True</td>\n",
       "      <td>3.0</td>\n",
       "      <td>2987.0</td>\n",
       "      <td>831.435541</td>\n",
       "      <td>1.0</td>\n",
       "      <td>2040.0</td>\n",
       "      <td>261.0</td>\n",
       "      <td>[[WALK, 238, 293], [BUS, 240, 944], [WALK, 101...</td>\n",
       "    </tr>\n",
       "    <tr>\n",
       "      <th>2</th>\n",
       "      <td>19.885724</td>\n",
       "      <td>50.017353</td>\n",
       "      <td>19.896833</td>\n",
       "      <td>50.023390</td>\n",
       "      <td>2024-03-28 08:05:43</td>\n",
       "      <td>True</td>\n",
       "      <td>3.0</td>\n",
       "      <td>826.0</td>\n",
       "      <td>839.163955</td>\n",
       "      <td>0.0</td>\n",
       "      <td>120.0</td>\n",
       "      <td>2.0</td>\n",
       "      <td>[[WALK, 348, 398], [TRAM, 120, 1182], [WALK, 3...</td>\n",
       "    </tr>\n",
       "  </tbody>\n",
       "</table>\n",
       "</div>"
      ],
      "text/plain": [
       "    origin_x   origin_y  destination_x  destination_y                treq  \\\n",
       "0  19.871552  50.018840      19.954225      50.045635 2024-03-28 07:54:33   \n",
       "1  19.873129  50.015181      19.934195      50.070585 2024-03-28 07:52:19   \n",
       "2  19.885724  50.017353      19.896833      50.023390 2024-03-28 08:05:43   \n",
       "\n",
       "  success  n_itineraries  duration  walkDistance  transfers  transitTime  \\\n",
       "0    True            3.0    2458.0   1014.802038        1.0       1560.0   \n",
       "1    True            3.0    2987.0    831.435541        1.0       2040.0   \n",
       "2    True            3.0     826.0    839.163955        0.0        120.0   \n",
       "\n",
       "   waitingTime                                              modes  \n",
       "0         81.0  [[WALK, 478, 608], [BUS, 240, 944], [WALK, 101...  \n",
       "1        261.0  [[WALK, 238, 293], [BUS, 240, 944], [WALK, 101...  \n",
       "2          2.0  [[WALK, 348, 398], [TRAM, 120, 1182], [WALK, 3...  "
      ]
     },
     "execution_count": 6,
     "metadata": {},
     "output_type": "execute_result"
    }
   ],
   "source": [
    "for name in list(df2[0].keys()):\n",
    "    vals = []\n",
    "    for i in range(len(df2)):\n",
    "        if df2[i]['success'] == True:\n",
    "            vals.append(df2[i][name])\n",
    "        else:\n",
    "            vals.append(None)\n",
    "    df1[name] = vals\n",
    "df1[:3]"
   ]
  },
  {
   "cell_type": "code",
   "execution_count": 7,
   "metadata": {},
   "outputs": [
    {
     "name": "stdout",
     "output_type": "stream",
     "text": [
      "origin_x                                                 19.882898\n",
      "origin_y                                                 50.019171\n",
      "destination_x                                            19.906643\n",
      "destination_y                                            50.030131\n",
      "treq                                           2024-03-28 08:10:10\n",
      "success                                                       True\n",
      "n_itineraries                                                  3.0\n",
      "duration                                                    1186.0\n",
      "walkDistance                                           1169.584692\n",
      "transfers                                                      0.0\n",
      "transitTime                                                  180.0\n",
      "waitingTime                                                    2.0\n",
      "modes            [[WALK, 589, 690], [TRAM, 180, 1596], [WALK, 4...\n",
      "Name: 59, dtype: object\n",
      "\n",
      "{'fromPlace': '50.01917132,19.88289838', 'toPlace': '50.03013095170665,19.90664300481499', 'time': '08:10am', 'date': '3-28-2024', 'mode': 'TRANSIT,WALK', 'maxWalkDistance': 2000, 'arriveBy': 'false'}\n",
      "\n",
      "{'success': True, 'n_itineraries': 3, 'duration': 1186, 'walkDistance': 1169.5846917074882, 'transfers': 0, 'transitTime': 180, 'waitingTime': 2, 'modes': [['WALK', 589, 690], ['TRAM', 180, 1596], ['WALK', 415, 478]]}\n"
     ]
    }
   ],
   "source": [
    "# test\n",
    "row = df1.sample(1).squeeze()\n",
    "print(row)\n",
    "print()\n",
    "query = make_query(row)\n",
    "print(query)\n",
    "print()\n",
    "r = requests.get(OTP_API, params=query)\n",
    "route = parse_OTP_response(r.json())\n",
    "print(route)"
   ]
  },
  {
   "cell_type": "markdown",
   "metadata": {},
   "source": [
    "#### visualization"
   ]
  },
  {
   "cell_type": "code",
   "execution_count": 8,
   "metadata": {},
   "outputs": [
    {
     "name": "stdout",
     "output_type": "stream",
     "text": [
      "Trip from (19.8829,50.0192) to (19.9066,50.0301) at 1711609800000. \n",
      "3 connections found. \n",
      "Best one is 20min (1170m walk, 0 transfer(s), wait time 0.03min)\n",
      "\n",
      "LEG \t MODE \tDIST \tTIME\n",
      "-----------------------------\n",
      "1\tWALK\t691\t589\n",
      "2\tTRAM\t1596\t180\n",
      "3\tWALK\t478\t415\n"
     ]
    },
    {
     "data": {
      "text/html": [
       "<div style=\"width:100%;\"><div style=\"position:relative;width:100%;height:0;padding-bottom:60%;\"><span style=\"color:#565656\">Make this Notebook Trusted to load map: File -> Trust Notebook</span><iframe srcdoc=\"&lt;!DOCTYPE html&gt;\n",
       "&lt;html&gt;\n",
       "&lt;head&gt;\n",
       "    \n",
       "    &lt;meta http-equiv=&quot;content-type&quot; content=&quot;text/html; charset=UTF-8&quot; /&gt;\n",
       "    \n",
       "        &lt;script&gt;\n",
       "            L_NO_TOUCH = false;\n",
       "            L_DISABLE_3D = false;\n",
       "        &lt;/script&gt;\n",
       "    \n",
       "    &lt;style&gt;html, body {width: 100%;height: 100%;margin: 0;padding: 0;}&lt;/style&gt;\n",
       "    &lt;style&gt;#map {position:absolute;top:0;bottom:0;right:0;left:0;}&lt;/style&gt;\n",
       "    &lt;script src=&quot;https://cdn.jsdelivr.net/npm/leaflet@1.9.3/dist/leaflet.js&quot;&gt;&lt;/script&gt;\n",
       "    &lt;script src=&quot;https://code.jquery.com/jquery-1.12.4.min.js&quot;&gt;&lt;/script&gt;\n",
       "    &lt;script src=&quot;https://cdn.jsdelivr.net/npm/bootstrap@5.2.2/dist/js/bootstrap.bundle.min.js&quot;&gt;&lt;/script&gt;\n",
       "    &lt;script src=&quot;https://cdnjs.cloudflare.com/ajax/libs/Leaflet.awesome-markers/2.0.2/leaflet.awesome-markers.js&quot;&gt;&lt;/script&gt;\n",
       "    &lt;link rel=&quot;stylesheet&quot; href=&quot;https://cdn.jsdelivr.net/npm/leaflet@1.9.3/dist/leaflet.css&quot;/&gt;\n",
       "    &lt;link rel=&quot;stylesheet&quot; href=&quot;https://cdn.jsdelivr.net/npm/bootstrap@5.2.2/dist/css/bootstrap.min.css&quot;/&gt;\n",
       "    &lt;link rel=&quot;stylesheet&quot; href=&quot;https://netdna.bootstrapcdn.com/bootstrap/3.0.0/css/bootstrap.min.css&quot;/&gt;\n",
       "    &lt;link rel=&quot;stylesheet&quot; href=&quot;https://cdn.jsdelivr.net/npm/@fortawesome/fontawesome-free@6.2.0/css/all.min.css&quot;/&gt;\n",
       "    &lt;link rel=&quot;stylesheet&quot; href=&quot;https://cdnjs.cloudflare.com/ajax/libs/Leaflet.awesome-markers/2.0.2/leaflet.awesome-markers.css&quot;/&gt;\n",
       "    &lt;link rel=&quot;stylesheet&quot; href=&quot;https://cdn.jsdelivr.net/gh/python-visualization/folium/folium/templates/leaflet.awesome.rotate.min.css&quot;/&gt;\n",
       "    \n",
       "            &lt;meta name=&quot;viewport&quot; content=&quot;width=device-width,\n",
       "                initial-scale=1.0, maximum-scale=1.0, user-scalable=no&quot; /&gt;\n",
       "            &lt;style&gt;\n",
       "                #map_2299b1f80b25118477356ea42accbb02 {\n",
       "                    position: relative;\n",
       "                    width: 100.0%;\n",
       "                    height: 100.0%;\n",
       "                    left: 0.0%;\n",
       "                    top: 0.0%;\n",
       "                }\n",
       "                .leaflet-container { font-size: 1rem; }\n",
       "            &lt;/style&gt;\n",
       "        \n",
       "&lt;/head&gt;\n",
       "&lt;body&gt;\n",
       "    \n",
       "    \n",
       "            &lt;div class=&quot;folium-map&quot; id=&quot;map_2299b1f80b25118477356ea42accbb02&quot; &gt;&lt;/div&gt;\n",
       "        \n",
       "&lt;/body&gt;\n",
       "&lt;script&gt;\n",
       "    \n",
       "    \n",
       "            var map_2299b1f80b25118477356ea42accbb02 = L.map(\n",
       "                &quot;map_2299b1f80b25118477356ea42accbb02&quot;,\n",
       "                {\n",
       "                    center: [50.024651135853325, 19.894770692407494],\n",
       "                    crs: L.CRS.EPSG3857,\n",
       "                    zoom: 13,\n",
       "                    zoomControl: true,\n",
       "                    preferCanvas: false,\n",
       "                }\n",
       "            );\n",
       "            L.control.scale().addTo(map_2299b1f80b25118477356ea42accbb02);\n",
       "\n",
       "            \n",
       "\n",
       "        \n",
       "    \n",
       "            var tile_layer_020b568253236e6e4e8c2458f95c74a7 = L.tileLayer(\n",
       "                &quot;https://tile.thunderforest.com/transport/{z}/{x}/{y}.png?apikey=54d9f38859864044ae1906a121f1e942&quot;,\n",
       "                {&quot;attribution&quot;: &quot;toner-bcg&quot;, &quot;detectRetina&quot;: false, &quot;maxNativeZoom&quot;: 18, &quot;maxZoom&quot;: 18, &quot;minZoom&quot;: 0, &quot;noWrap&quot;: false, &quot;opacity&quot;: 1, &quot;subdomains&quot;: &quot;abc&quot;, &quot;tms&quot;: false}\n",
       "            ).addTo(map_2299b1f80b25118477356ea42accbb02);\n",
       "        \n",
       "    \n",
       "            var circle_marker_8ae64953fd1f3db439c006b292f7c24a = L.circleMarker(\n",
       "                [50.01926, 19.88293],\n",
       "                {&quot;bubblingMouseEvents&quot;: true, &quot;color&quot;: &quot;green&quot;, &quot;dashArray&quot;: null, &quot;dashOffset&quot;: null, &quot;fill&quot;: false, &quot;fillColor&quot;: &quot;green&quot;, &quot;fillOpacity&quot;: 0.2, &quot;fillRule&quot;: &quot;evenodd&quot;, &quot;lineCap&quot;: &quot;round&quot;, &quot;lineJoin&quot;: &quot;round&quot;, &quot;opacity&quot;: 0.7, &quot;radius&quot;: 5, &quot;stroke&quot;: true, &quot;weight&quot;: 3}\n",
       "            ).addTo(map_2299b1f80b25118477356ea42accbb02);\n",
       "        \n",
       "    \n",
       "            var circle_marker_386b23ed20e9112cda993d571012e5cb = L.circleMarker(\n",
       "                [50.01844, 19.88948],\n",
       "                {&quot;bubblingMouseEvents&quot;: true, &quot;color&quot;: &quot;green&quot;, &quot;dashArray&quot;: null, &quot;dashOffset&quot;: null, &quot;fill&quot;: false, &quot;fillColor&quot;: &quot;green&quot;, &quot;fillOpacity&quot;: 0.2, &quot;fillRule&quot;: &quot;evenodd&quot;, &quot;lineCap&quot;: &quot;round&quot;, &quot;lineJoin&quot;: &quot;round&quot;, &quot;opacity&quot;: 0.7, &quot;radius&quot;: 5, &quot;stroke&quot;: true, &quot;weight&quot;: 3}\n",
       "            ).addTo(map_2299b1f80b25118477356ea42accbb02);\n",
       "        \n",
       "    \n",
       "            var circle_marker_72af71fecb76bebe4925fe0e06de81c7 = L.circleMarker(\n",
       "                [50.02728, 19.90613],\n",
       "                {&quot;bubblingMouseEvents&quot;: true, &quot;color&quot;: &quot;green&quot;, &quot;dashArray&quot;: null, &quot;dashOffset&quot;: null, &quot;fill&quot;: false, &quot;fillColor&quot;: &quot;green&quot;, &quot;fillOpacity&quot;: 0.2, &quot;fillRule&quot;: &quot;evenodd&quot;, &quot;lineCap&quot;: &quot;round&quot;, &quot;lineJoin&quot;: &quot;round&quot;, &quot;opacity&quot;: 0.7, &quot;radius&quot;: 5, &quot;stroke&quot;: true, &quot;weight&quot;: 3}\n",
       "            ).addTo(map_2299b1f80b25118477356ea42accbb02);\n",
       "        \n",
       "    \n",
       "            var poly_line_be77bf0b131eb4af73c48bcb2bfa0402 = L.polyline(\n",
       "                [[50.01926, 19.88293], [50.01922, 19.88323], [50.01903, 19.8843], [50.01881, 19.88551], [50.01871, 19.88619], [50.01873, 19.88633], [50.0188, 19.88704], [50.01883, 19.8873], [50.01884, 19.88744], [50.01883, 19.8876], [50.01881, 19.88769], [50.01881, 19.8877], [50.01883, 19.88774], [50.01884, 19.88775], [50.01882, 19.88779], [50.0188, 19.88783], [50.0188, 19.88788], [50.0188, 19.88791], [50.0188, 19.88795], [50.0188, 19.88798], [50.0188, 19.888], [50.01882, 19.88804], [50.01882, 19.88805], [50.0188, 19.88808], [50.01885, 19.88819], [50.0189, 19.88835], [50.01902, 19.8889], [50.01904, 19.88899], [50.01907, 19.88905], [50.01905, 19.88913], [50.01897, 19.88969], [50.01884, 19.8902], [50.01883, 19.8903], [50.01882, 19.89029], [50.01881, 19.89027], [50.01881, 19.89025], [50.01881, 19.89023], [50.01877, 19.8902], [50.01874, 19.89019], [50.01865, 19.89014], [50.01863, 19.89013], [50.01859, 19.89013], [50.01855, 19.89012], [50.01849, 19.89007], [50.01844, 19.89005], [50.01842, 19.89005], [50.01841, 19.89003], [50.01838, 19.8901], [50.0183, 19.89001], [50.01829, 19.88999], [50.01826, 19.88994], [50.01823, 19.88989], [50.01821, 19.88988], [50.01818, 19.88987], [50.01823, 19.88979], [50.01823, 19.8898], [50.01843, 19.88946], [50.01844, 19.88948], [50.02082, 19.89812], [50.02468, 19.90199], [50.02729, 19.90612], [50.02728, 19.90613], [50.02714, 19.90581], [50.02713, 19.90582], [50.02711, 19.90577], [50.02713, 19.90574], [50.02715, 19.9057], [50.02718, 19.90565], [50.02718, 19.90562], [50.0272, 19.90558], [50.02752, 19.90498], [50.02755, 19.90492], [50.02763, 19.90479], [50.02767, 19.9047], [50.02786, 19.9049], [50.02794, 19.905], [50.02924, 19.90647], [50.02964, 19.90691], [50.02967, 19.90694], [50.02971, 19.90699], [50.02973, 19.90686], [50.02982, 19.90695], [50.02986, 19.907], [50.02994, 19.90682], [50.03006, 19.90657]],\n",
       "                {&quot;bubblingMouseEvents&quot;: true, &quot;color&quot;: &quot;green&quot;, &quot;dashArray&quot;: null, &quot;dashOffset&quot;: null, &quot;fill&quot;: false, &quot;fillColor&quot;: &quot;green&quot;, &quot;fillOpacity&quot;: 0.2, &quot;fillRule&quot;: &quot;evenodd&quot;, &quot;lineCap&quot;: &quot;round&quot;, &quot;lineJoin&quot;: &quot;round&quot;, &quot;noClip&quot;: false, &quot;opacity&quot;: 0.6, &quot;smoothFactor&quot;: 1.0, &quot;stroke&quot;: true, &quot;weight&quot;: 5}\n",
       "            ).addTo(map_2299b1f80b25118477356ea42accbb02);\n",
       "        \n",
       "&lt;/script&gt;\n",
       "&lt;/html&gt;\" style=\"position:absolute;width:100%;height:100%;left:0;top:0;border:none !important;\" allowfullscreen webkitallowfullscreen mozallowfullscreen></iframe></div></div>"
      ],
      "text/plain": [
       "<folium.folium.Map at 0x2c40c19d790>"
      ]
     },
     "execution_count": 8,
     "metadata": {},
     "output_type": "execute_result"
    }
   ],
   "source": [
    "plot(r.json()['plan'], color = 'green')"
   ]
  },
  {
   "cell_type": "markdown",
   "metadata": {},
   "source": [
    "output"
   ]
  },
  {
   "cell_type": "code",
   "execution_count": 10,
   "metadata": {},
   "outputs": [],
   "source": [
    "# df1.to_csv(\"georequests_O(area10)_D_PT.csv\")"
   ]
  },
  {
   "cell_type": "markdown",
   "metadata": {},
   "source": [
    "full response"
   ]
  },
  {
   "cell_type": "code",
   "execution_count": 11,
   "metadata": {
    "tags": []
   },
   "outputs": [],
   "source": [
    "# r.json()['requestParameters']"
   ]
  },
  {
   "cell_type": "markdown",
   "metadata": {},
   "source": [
    "---"
   ]
  }
 ],
 "metadata": {
  "kernelspec": {
   "display_name": "Python 3 (ipykernel)",
   "language": "python",
   "name": "python3"
  },
  "language_info": {
   "codemirror_mode": {
    "name": "ipython",
    "version": 3
   },
   "file_extension": ".py",
   "mimetype": "text/x-python",
   "name": "python",
   "nbconvert_exporter": "python",
   "pygments_lexer": "ipython3",
   "version": "3.9.13"
  }
 },
 "nbformat": 4,
 "nbformat_minor": 4
}
