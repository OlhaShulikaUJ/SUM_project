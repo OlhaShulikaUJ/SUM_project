{
 "cells": [
  {
   "cell_type": "markdown",
   "metadata": {},
   "source": [
    "\n",
    "\n",
    "__Set your own route planner for a given OSM map and GTFS file and query server on localhost for a detailed routes__\n",
    "\n",
    "\n",
    "### OTP walkthrough\n",
    "\n",
    "from: http://docs.opentripplanner.org/en/latest/Basic-Tutorial/\n",
    "\n",
    "1. Install Java SDK\n",
    "2. Download [latest](https://repo1.maven.org/maven2/org/opentripplanner/otp/1.4.0/otp-1.4.0-shaded.jar) .jar from [Maven](https://repo1.maven.org/maven2/org/opentripplanner/otp/1.4.0/)\n",
    "3. Download gtfs.zip of a given city into a `folder` from `transit.land`\n",
    "4. Download osm.pgf of your area from [here](https://www.interline.io/osm/extracts/) (need to login to get API token)\n",
    "5. call from terminal `java -Xmx6G -jar otp-1.4.0-shaded.jar --build data_path --inMemory` changing `6G` as memory allocated (6GB) and `data_path` to your path with osm and gtfs files\n",
    "6. if succesful you shall be able to open a web search in your browser: `http://localhost:8080/`\n",
    "7. and query it via API, for instance: 'http://localhost:8080/otp/routers/default/plan?fromPlace=52.25177%2C20.92758&toPlace=52.20550%2C21.00517&time=1%3A02pm&date=04-09-2020&mode=TRANSIT%2CWALK&maxWalkDistance=5000&arriveBy=false'\n"
   ]
  },
  {
   "cell_type": "code",
   "execution_count": 1,
   "metadata": {},
   "outputs": [],
   "source": [
    "import pandas as pd\n",
    "import requests\n",
    "import osmnx as ox"
   ]
  },
  {
   "cell_type": "markdown",
   "metadata": {},
   "source": [
    "local imports"
   ]
  },
  {
   "cell_type": "code",
   "execution_count": 2,
   "metadata": {},
   "outputs": [],
   "source": [
    "from main import make_query, parse_OTP_response\n",
    "from utils import plot"
   ]
  },
  {
   "cell_type": "markdown",
   "metadata": {},
   "source": [
    "set up"
   ]
  },
  {
   "cell_type": "code",
   "execution_count": 3,
   "metadata": {},
   "outputs": [],
   "source": [
    "PATH = 'requests_10.csv'\n",
    "OTP_API = \"http://localhost:8080/otp/routers/default/plan\""
   ]
  },
  {
   "cell_type": "code",
   "execution_count": 4,
   "metadata": {},
   "outputs": [
    {
     "data": {
      "text/html": [
       "<div>\n",
       "<style scoped>\n",
       "    .dataframe tbody tr th:only-of-type {\n",
       "        vertical-align: middle;\n",
       "    }\n",
       "\n",
       "    .dataframe tbody tr th {\n",
       "        vertical-align: top;\n",
       "    }\n",
       "\n",
       "    .dataframe thead th {\n",
       "        text-align: right;\n",
       "    }\n",
       "</style>\n",
       "<table border=\"1\" class=\"dataframe\">\n",
       "  <thead>\n",
       "    <tr style=\"text-align: right;\">\n",
       "      <th></th>\n",
       "      <th>origin_x</th>\n",
       "      <th>origin_y</th>\n",
       "      <th>destination_x</th>\n",
       "      <th>destination_y</th>\n",
       "      <th>treq</th>\n",
       "    </tr>\n",
       "  </thead>\n",
       "  <tbody>\n",
       "    <tr>\n",
       "      <th>1857</th>\n",
       "      <td>19.874259</td>\n",
       "      <td>50.014862</td>\n",
       "      <td>19.965809</td>\n",
       "      <td>50.064086</td>\n",
       "      <td>2024-03-27 08:00:17</td>\n",
       "    </tr>\n",
       "    <tr>\n",
       "      <th>2742</th>\n",
       "      <td>19.864756</td>\n",
       "      <td>50.010229</td>\n",
       "      <td>19.938712</td>\n",
       "      <td>50.046949</td>\n",
       "      <td>2024-03-27 08:07:36</td>\n",
       "    </tr>\n",
       "    <tr>\n",
       "      <th>3480</th>\n",
       "      <td>19.875866</td>\n",
       "      <td>50.012092</td>\n",
       "      <td>19.958617</td>\n",
       "      <td>50.058002</td>\n",
       "      <td>2024-03-27 08:13:03</td>\n",
       "    </tr>\n",
       "    <tr>\n",
       "      <th>2834</th>\n",
       "      <td>19.869984</td>\n",
       "      <td>50.011822</td>\n",
       "      <td>19.949797</td>\n",
       "      <td>50.057791</td>\n",
       "      <td>2024-03-27 08:08:17</td>\n",
       "    </tr>\n",
       "    <tr>\n",
       "      <th>1215</th>\n",
       "      <td>19.875955</td>\n",
       "      <td>50.016279</td>\n",
       "      <td>19.971044</td>\n",
       "      <td>50.044166</td>\n",
       "      <td>2024-03-27 07:55:20</td>\n",
       "    </tr>\n",
       "  </tbody>\n",
       "</table>\n",
       "</div>"
      ],
      "text/plain": [
       "       origin_x   origin_y  destination_x  destination_y                treq\n",
       "1857  19.874259  50.014862      19.965809      50.064086 2024-03-27 08:00:17\n",
       "2742  19.864756  50.010229      19.938712      50.046949 2024-03-27 08:07:36\n",
       "3480  19.875866  50.012092      19.958617      50.058002 2024-03-27 08:13:03\n",
       "2834  19.869984  50.011822      19.949797      50.057791 2024-03-27 08:08:17\n",
       "1215  19.875955  50.016279      19.971044      50.044166 2024-03-27 07:55:20"
      ]
     },
     "execution_count": 4,
     "metadata": {},
     "output_type": "execute_result"
    }
   ],
   "source": [
    "df = pd.read_csv(PATH)\n",
    "G = ox.load_graphml('Krakow.graphml')\n",
    "df['origin_y'] = df.apply(lambda row: G.nodes[row.origin]['y'], axis=1)\n",
    "df['origin_x'] = df.apply(lambda row: G.nodes[row.origin]['x'], axis=1)\n",
    "df['destination_y'] = df.apply(lambda row: G.nodes[row.destination]['y'], axis=1)\n",
    "df['destination_x'] = df.apply(lambda row: G.nodes[row.destination]['x'], axis=1)\n",
    "df.treq = pd.to_datetime(df.treq)\n",
    "df.sample(5)[['origin_x','origin_y','destination_x','destination_y','treq']]"
   ]
  },
  {
   "cell_type": "markdown",
   "metadata": {},
   "source": [
    "input"
   ]
  },
  {
   "cell_type": "code",
   "execution_count": 13,
   "metadata": {},
   "outputs": [],
   "source": [
    "#when use KRK not need this part!!!!\n",
    "# df = pd.read_csv(PATH, index_col=[0])  # load the csv\n",
    "# df.treq = pd.to_datetime(df.treq)\n",
    "# df.sample(3)[['origin_x','origin_y','destination_x','destination_y','treq']]"
   ]
  },
  {
   "cell_type": "code",
   "execution_count": 14,
   "metadata": {},
   "outputs": [],
   "source": [
    "#!!! check for Poznan\n",
    "# df1 = pd.DataFrame(columns=['origin_x','origin_y','destination_x','destination_y','treq'])\n",
    "# df1['origin_x'] = [16.89423, 16.91294, 16.94984]\n",
    "# df1['origin_y'] = [52.40504, 52.42797, 52.41404]\n",
    "\n",
    "# df1['destination_x'] = [16.94984, 16.92324, 16.88410]\n",
    "# df1['destination_y'] = [52.40619, 52.39833, 52.36973]\n",
    "\n",
    "# df1['treq'] = pd.Timestamp(2023, 3, 7, 12)\n",
    "\n",
    "# df =df1"
   ]
  },
  {
   "cell_type": "markdown",
   "metadata": {},
   "source": [
    "sample query (before you can query the server you need to run it -see run OTP server.ipynb in this folder)\n",
    "\n",
    "[query synthax](http://dev.opentripplanner.org/apidoc/1.0.0/resource_PlannerResource.html)  \n",
    "[response json structure](http://dev.opentripplanner.org/apidoc/1.0.0/json_Response.html)"
   ]
  },
  {
   "cell_type": "code",
   "execution_count": 7,
   "metadata": {
    "tags": []
   },
   "outputs": [
    {
     "data": {
      "text/plain": [
       "{'success': True,\n",
       " 'n_itineraries': 3,\n",
       " 'duration': 2688,\n",
       " 'walkDistance': 431.4195639073362,\n",
       " 'transfers': 1,\n",
       " 'transitTime': 2160,\n",
       " 'waitingTime': 182,\n",
       " 'modes': [['WALK', 210, 268],\n",
       "  ['BUS', 1380, 6130],\n",
       "  ['BUS', 780, 4327],\n",
       "  ['WALK', 136, 163]]}"
      ]
     },
     "execution_count": 7,
     "metadata": {},
     "output_type": "execute_result"
    }
   ],
   "source": [
    "row = df.sample(1).squeeze()\n",
    "query = make_query(row)\n",
    "r = requests.get(OTP_API, params=query)\n",
    "route = parse_OTP_response(r.json())\n",
    "route"
   ]
  },
  {
   "cell_type": "markdown",
   "metadata": {},
   "source": [
    "#### visualization"
   ]
  },
  {
   "cell_type": "code",
   "execution_count": 8,
   "metadata": {},
   "outputs": [
    {
     "name": "stdout",
     "output_type": "stream",
     "text": [
      "Trip from (19.8727,50.0159) to (19.9818,50.0491) at 1711522980000. \n",
      "3 connections found. \n",
      "Best one is 45min (431m walk, 1 transfer(s), wait time 3.03min)\n",
      "\n",
      "LEG \t MODE \tDIST \tTIME\n",
      "-----------------------------\n",
      "1\tWALK\t268\t210\n",
      "2\tBUS\t6130\t1380\n",
      "3\tBUS\t4327\t780\n",
      "4\tWALK\t163\t136\n"
     ]
    },
    {
     "data": {
      "text/html": [
       "<div style=\"width:100%;\"><div style=\"position:relative;width:100%;height:0;padding-bottom:60%;\"><span style=\"color:#565656\">Make this Notebook Trusted to load map: File -> Trust Notebook</span><iframe srcdoc=\"&lt;!DOCTYPE html&gt;\n",
       "&lt;html&gt;\n",
       "&lt;head&gt;\n",
       "    \n",
       "    &lt;meta http-equiv=&quot;content-type&quot; content=&quot;text/html; charset=UTF-8&quot; /&gt;\n",
       "    \n",
       "        &lt;script&gt;\n",
       "            L_NO_TOUCH = false;\n",
       "            L_DISABLE_3D = false;\n",
       "        &lt;/script&gt;\n",
       "    \n",
       "    &lt;style&gt;html, body {width: 100%;height: 100%;margin: 0;padding: 0;}&lt;/style&gt;\n",
       "    &lt;style&gt;#map {position:absolute;top:0;bottom:0;right:0;left:0;}&lt;/style&gt;\n",
       "    &lt;script src=&quot;https://cdn.jsdelivr.net/npm/leaflet@1.9.3/dist/leaflet.js&quot;&gt;&lt;/script&gt;\n",
       "    &lt;script src=&quot;https://code.jquery.com/jquery-1.12.4.min.js&quot;&gt;&lt;/script&gt;\n",
       "    &lt;script src=&quot;https://cdn.jsdelivr.net/npm/bootstrap@5.2.2/dist/js/bootstrap.bundle.min.js&quot;&gt;&lt;/script&gt;\n",
       "    &lt;script src=&quot;https://cdnjs.cloudflare.com/ajax/libs/Leaflet.awesome-markers/2.0.2/leaflet.awesome-markers.js&quot;&gt;&lt;/script&gt;\n",
       "    &lt;link rel=&quot;stylesheet&quot; href=&quot;https://cdn.jsdelivr.net/npm/leaflet@1.9.3/dist/leaflet.css&quot;/&gt;\n",
       "    &lt;link rel=&quot;stylesheet&quot; href=&quot;https://cdn.jsdelivr.net/npm/bootstrap@5.2.2/dist/css/bootstrap.min.css&quot;/&gt;\n",
       "    &lt;link rel=&quot;stylesheet&quot; href=&quot;https://netdna.bootstrapcdn.com/bootstrap/3.0.0/css/bootstrap.min.css&quot;/&gt;\n",
       "    &lt;link rel=&quot;stylesheet&quot; href=&quot;https://cdn.jsdelivr.net/npm/@fortawesome/fontawesome-free@6.2.0/css/all.min.css&quot;/&gt;\n",
       "    &lt;link rel=&quot;stylesheet&quot; href=&quot;https://cdnjs.cloudflare.com/ajax/libs/Leaflet.awesome-markers/2.0.2/leaflet.awesome-markers.css&quot;/&gt;\n",
       "    &lt;link rel=&quot;stylesheet&quot; href=&quot;https://cdn.jsdelivr.net/gh/python-visualization/folium/folium/templates/leaflet.awesome.rotate.min.css&quot;/&gt;\n",
       "    \n",
       "            &lt;meta name=&quot;viewport&quot; content=&quot;width=device-width,\n",
       "                initial-scale=1.0, maximum-scale=1.0, user-scalable=no&quot; /&gt;\n",
       "            &lt;style&gt;\n",
       "                #map_2b1df0fa8a21950e00fa545353947ff7 {\n",
       "                    position: relative;\n",
       "                    width: 100.0%;\n",
       "                    height: 100.0%;\n",
       "                    left: 0.0%;\n",
       "                    top: 0.0%;\n",
       "                }\n",
       "                .leaflet-container { font-size: 1rem; }\n",
       "            &lt;/style&gt;\n",
       "        \n",
       "&lt;/head&gt;\n",
       "&lt;body&gt;\n",
       "    \n",
       "    \n",
       "            &lt;div class=&quot;folium-map&quot; id=&quot;map_2b1df0fa8a21950e00fa545353947ff7&quot; &gt;&lt;/div&gt;\n",
       "        \n",
       "&lt;/body&gt;\n",
       "&lt;script&gt;\n",
       "    \n",
       "    \n",
       "            var map_2b1df0fa8a21950e00fa545353947ff7 = L.map(\n",
       "                &quot;map_2b1df0fa8a21950e00fa545353947ff7&quot;,\n",
       "                {\n",
       "                    center: [50.03246145, 19.9272251],\n",
       "                    crs: L.CRS.EPSG3857,\n",
       "                    zoom: 13,\n",
       "                    zoomControl: true,\n",
       "                    preferCanvas: false,\n",
       "                }\n",
       "            );\n",
       "            L.control.scale().addTo(map_2b1df0fa8a21950e00fa545353947ff7);\n",
       "\n",
       "            \n",
       "\n",
       "        \n",
       "    \n",
       "            var tile_layer_95474b05258b7a2c1c7b802bad1a262c = L.tileLayer(\n",
       "                &quot;https://tile.thunderforest.com/transport/{z}/{x}/{y}.png?apikey=54d9f38859864044ae1906a121f1e942&quot;,\n",
       "                {&quot;attribution&quot;: &quot;toner-bcg&quot;, &quot;detectRetina&quot;: false, &quot;maxNativeZoom&quot;: 18, &quot;maxZoom&quot;: 18, &quot;minZoom&quot;: 0, &quot;noWrap&quot;: false, &quot;opacity&quot;: 1, &quot;subdomains&quot;: &quot;abc&quot;, &quot;tms&quot;: false}\n",
       "            ).addTo(map_2b1df0fa8a21950e00fa545353947ff7);\n",
       "        \n",
       "    \n",
       "            var circle_marker_b887478278a3b37f10fdf17de26cbfa7 = L.circleMarker(\n",
       "                [50.01587, 19.87269],\n",
       "                {&quot;bubblingMouseEvents&quot;: true, &quot;color&quot;: &quot;green&quot;, &quot;dashArray&quot;: null, &quot;dashOffset&quot;: null, &quot;fill&quot;: false, &quot;fillColor&quot;: &quot;green&quot;, &quot;fillOpacity&quot;: 0.2, &quot;fillRule&quot;: &quot;evenodd&quot;, &quot;lineCap&quot;: &quot;round&quot;, &quot;lineJoin&quot;: &quot;round&quot;, &quot;opacity&quot;: 0.7, &quot;radius&quot;: 5, &quot;stroke&quot;: true, &quot;weight&quot;: 3}\n",
       "            ).addTo(map_2b1df0fa8a21950e00fa545353947ff7);\n",
       "        \n",
       "    \n",
       "            var circle_marker_485a0436530e3c8dfb7125d94d95b851 = L.circleMarker(\n",
       "                [50.01611, 19.87632],\n",
       "                {&quot;bubblingMouseEvents&quot;: true, &quot;color&quot;: &quot;green&quot;, &quot;dashArray&quot;: null, &quot;dashOffset&quot;: null, &quot;fill&quot;: false, &quot;fillColor&quot;: &quot;green&quot;, &quot;fillOpacity&quot;: 0.2, &quot;fillRule&quot;: &quot;evenodd&quot;, &quot;lineCap&quot;: &quot;round&quot;, &quot;lineJoin&quot;: &quot;round&quot;, &quot;opacity&quot;: 0.7, &quot;radius&quot;: 5, &quot;stroke&quot;: true, &quot;weight&quot;: 3}\n",
       "            ).addTo(map_2b1df0fa8a21950e00fa545353947ff7);\n",
       "        \n",
       "    \n",
       "            var circle_marker_18f012e04f004873e41bb98d1b502a5e = L.circleMarker(\n",
       "                [50.03015, 19.93635],\n",
       "                {&quot;bubblingMouseEvents&quot;: true, &quot;color&quot;: &quot;green&quot;, &quot;dashArray&quot;: null, &quot;dashOffset&quot;: null, &quot;fill&quot;: false, &quot;fillColor&quot;: &quot;green&quot;, &quot;fillOpacity&quot;: 0.2, &quot;fillRule&quot;: &quot;evenodd&quot;, &quot;lineCap&quot;: &quot;round&quot;, &quot;lineJoin&quot;: &quot;round&quot;, &quot;opacity&quot;: 0.7, &quot;radius&quot;: 5, &quot;stroke&quot;: true, &quot;weight&quot;: 3}\n",
       "            ).addTo(map_2b1df0fa8a21950e00fa545353947ff7);\n",
       "        \n",
       "    \n",
       "            var circle_marker_7711137c801c9ab4dfbb9a9b43ec1fe0 = L.circleMarker(\n",
       "                [50.04973, 19.9835],\n",
       "                {&quot;bubblingMouseEvents&quot;: true, &quot;color&quot;: &quot;green&quot;, &quot;dashArray&quot;: null, &quot;dashOffset&quot;: null, &quot;fill&quot;: false, &quot;fillColor&quot;: &quot;green&quot;, &quot;fillOpacity&quot;: 0.2, &quot;fillRule&quot;: &quot;evenodd&quot;, &quot;lineCap&quot;: &quot;round&quot;, &quot;lineJoin&quot;: &quot;round&quot;, &quot;opacity&quot;: 0.7, &quot;radius&quot;: 5, &quot;stroke&quot;: true, &quot;weight&quot;: 3}\n",
       "            ).addTo(map_2b1df0fa8a21950e00fa545353947ff7);\n",
       "        \n",
       "    \n",
       "            var poly_line_142d4eb65026954aac4adb881ebf69b0 = L.polyline(\n",
       "                [[50.01587, 19.87269], [50.01597, 19.8735], [50.01605, 19.87417], [50.01616, 19.87481], [50.01622, 19.87529], [50.01624, 19.87538], [50.01627, 19.87561], [50.01628, 19.87571], [50.01628, 19.87581], [50.01627, 19.87595], [50.01627, 19.87609], [50.01627, 19.87612], [50.01625, 19.8763], [50.01624, 19.87637], [50.01611, 19.87632], [50.0166, 19.88149], [50.01807, 19.88915], [50.01521, 19.892], [50.01497, 19.89662], [50.01553, 19.90252], [50.01898, 19.90635], [50.02417, 19.91117], [50.02756, 19.91491], [50.02423, 19.91953], [50.02183, 19.93291], [50.0295, 19.93593], [50.03015, 19.93635], [50.03015, 19.93635], [50.02883, 19.93751], [50.02937, 19.94524], [50.04186, 19.96255], [50.04536, 19.97468], [50.04974, 19.98347], [50.04973, 19.9835], [50.04971, 19.98348], [50.04971, 19.98347], [50.04957, 19.9832], [50.04957, 19.98318], [50.0495, 19.98305], [50.04929, 19.98264], [50.04912, 19.98234], [50.04904, 19.98216], [50.04901, 19.98211], [50.04902, 19.98209], [50.04905, 19.98206], [50.04907, 19.98203], [50.04908, 19.98201], [50.04914, 19.98194], [50.04905, 19.98175]],\n",
       "                {&quot;bubblingMouseEvents&quot;: true, &quot;color&quot;: &quot;green&quot;, &quot;dashArray&quot;: null, &quot;dashOffset&quot;: null, &quot;fill&quot;: false, &quot;fillColor&quot;: &quot;green&quot;, &quot;fillOpacity&quot;: 0.2, &quot;fillRule&quot;: &quot;evenodd&quot;, &quot;lineCap&quot;: &quot;round&quot;, &quot;lineJoin&quot;: &quot;round&quot;, &quot;noClip&quot;: false, &quot;opacity&quot;: 0.6, &quot;smoothFactor&quot;: 1.0, &quot;stroke&quot;: true, &quot;weight&quot;: 5}\n",
       "            ).addTo(map_2b1df0fa8a21950e00fa545353947ff7);\n",
       "        \n",
       "&lt;/script&gt;\n",
       "&lt;/html&gt;\" style=\"position:absolute;width:100%;height:100%;left:0;top:0;border:none !important;\" allowfullscreen webkitallowfullscreen mozallowfullscreen></iframe></div></div>"
      ],
      "text/plain": [
       "<folium.folium.Map at 0x2b7afbbe3a0>"
      ]
     },
     "execution_count": 8,
     "metadata": {},
     "output_type": "execute_result"
    }
   ],
   "source": [
    "plot(r.json()['plan'], color = 'green')"
   ]
  },
  {
   "cell_type": "markdown",
   "metadata": {},
   "source": [
    "output"
   ]
  },
  {
   "cell_type": "code",
   "execution_count": 12,
   "metadata": {},
   "outputs": [],
   "source": [
    "def merge_batches(path, out_path, remove=True):\n",
    "    \"\"\"\n",
    "    walks through directory and merges all csv files into one\n",
    "    :param path:\n",
    "    :param out_path:\n",
    "    :param remove:\n",
    "    :return: none\n",
    "    \"\"\"\n",
    "\n",
    "    all_files = glob.glob(path + \"/*.csv\")\n",
    "    df = pd.concat((pd.read_csv(f) for f in all_files), sort=False).set_index('id')\n",
    "    df.to_csv(os.path.join(out_path))\n",
    "    if remove:\n",
    "        for f in all_files:\n",
    "            os.remove(f)"
   ]
  },
  {
   "cell_type": "code",
   "execution_count": null,
   "metadata": {},
   "outputs": [],
   "source": [
    "# pd.read_csv('georequests_PT.csv', index_col=[0]).sample(5)"
   ]
  },
  {
   "cell_type": "markdown",
   "metadata": {},
   "source": [
    "full response"
   ]
  },
  {
   "cell_type": "code",
   "execution_count": null,
   "metadata": {
    "tags": []
   },
   "outputs": [],
   "source": [
    "# r.json()['requestParameters']"
   ]
  },
  {
   "cell_type": "markdown",
   "metadata": {},
   "source": [
    "---"
   ]
  }
 ],
 "metadata": {
  "kernelspec": {
   "display_name": "Python 3 (ipykernel)",
   "language": "python",
   "name": "python3"
  },
  "language_info": {
   "codemirror_mode": {
    "name": "ipython",
    "version": 3
   },
   "file_extension": ".py",
   "mimetype": "text/x-python",
   "name": "python",
   "nbconvert_exporter": "python",
   "pygments_lexer": "ipython3",
   "version": "3.9.13"
  }
 },
 "nbformat": 4,
 "nbformat_minor": 4
}
